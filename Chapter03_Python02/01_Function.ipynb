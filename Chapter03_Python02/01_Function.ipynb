{
 "cells": [
  {
   "cell_type": "markdown",
   "id": "b00a2ca5",
   "metadata": {},
   "source": [
    "## 함수"
   ]
  },
  {
   "cell_type": "markdown",
   "id": "bc8c828f",
   "metadata": {},
   "source": [
    "### 1. 함수의 정의와 호출"
   ]
  },
  {
   "cell_type": "code",
   "execution_count": 1,
   "id": "c30f3d93",
   "metadata": {},
   "outputs": [
    {
     "name": "stdout",
     "output_type": "stream",
     "text": [
      "=======\n",
      " (^o^) \n",
      "=======\n"
     ]
    }
   ],
   "source": [
    "# 함수의 정의\n",
    "def my_emoticon():\n",
    "    print(\"=======\")\n",
    "    print(\" (^o^) \")\n",
    "    print(\"=======\")\n",
    "    \n",
    "# 함수의 호출\n",
    "my_emoticon()"
   ]
  },
  {
   "cell_type": "code",
   "execution_count": 3,
   "id": "a246780f",
   "metadata": {},
   "outputs": [
    {
     "name": "stdout",
     "output_type": "stream",
     "text": [
      "---게임정보---\n",
      "이름:  고독한 방랑자\n",
      "버전:  2.02\n",
      "장르:  MMORPG\n"
     ]
    }
   ],
   "source": [
    "# 매개변수를 갖는 함수의 정의\n",
    "def game_info_display(name, version, genre):    # 3개의 매개변수를 갖는 함수\n",
    "    print(\"---게임정보---\")\n",
    "    print(\"이름: \", name)\n",
    "    print(\"버전: \", version)\n",
    "    print(\"장르: \", genre)\n",
    "\n",
    "# 함수의 호출\n",
    "game_info_display(\"고독한 방랑자\", \"2.02\", \"MMORPG\")\n"
   ]
  },
  {
   "cell_type": "code",
   "execution_count": 4,
   "id": "2b0ef8f5",
   "metadata": {},
   "outputs": [
    {
     "data": {
      "text/plain": [
       "7"
      ]
     },
     "execution_count": 4,
     "metadata": {},
     "output_type": "execute_result"
    }
   ],
   "source": [
    "# 반환값이 있는 함수의 정의\n",
    "def my_func(x):\n",
    "    y=2*x+1\n",
    "    return y\n",
    "\n",
    "# 함수의 호출\n",
    "my_func(3)"
   ]
  },
  {
   "cell_type": "code",
   "execution_count": 5,
   "id": "8fe40661",
   "metadata": {},
   "outputs": [
    {
     "data": {
      "text/plain": [
       "(45, 5.0)"
      ]
     },
     "execution_count": 5,
     "metadata": {},
     "output_type": "execute_result"
    }
   ],
   "source": [
    "# 여러 개의 반환값을 가진 함수의 정의\n",
    "def calc_sum_mean(list_data):\n",
    "    e_count=0   # 요소 개수(초기화)\n",
    "    e_sum=0     # 요소 합계(초기화)\n",
    "    \n",
    "    for element in list_data:\n",
    "        e_count=e_count+1       # 요소 개수 계산\n",
    "        e_sum=e_sum+element     # 요소 합계 계산\n",
    "    e_mean=e_sum/e_count\n",
    "    \n",
    "    return e_sum, e_mean    # 계산 합계와 평균을 반환(자료형은 튜플)\n",
    "\n",
    "# 함수의 호출(인수는 리스트로 입력)\n",
    "calc_sum_mean([1, 2, 3, 4, 5, 6, 7, 8, 9])"
   ]
  },
  {
   "cell_type": "code",
   "execution_count": 6,
   "id": "198d080c",
   "metadata": {},
   "outputs": [
    {
     "name": "stdout",
     "output_type": "stream",
     "text": [
      "45\n",
      "5.0\n"
     ]
    }
   ],
   "source": [
    "# 변수에 할당해 활용\n",
    "list_sum, list_mean=calc_sum_mean([1, 2, 3, 4, 5, 6, 7, 8, 9])\n",
    "\n",
    "print(list_sum)\n",
    "print(list_mean)"
   ]
  },
  {
   "cell_type": "code",
   "execution_count": 9,
   "id": "eb7faf25",
   "metadata": {},
   "outputs": [
    {
     "name": "stdout",
     "output_type": "stream",
     "text": [
      "1+2+3=6\n",
      "11+2+3=16\n",
      "11+12+3=26\n",
      "11+12+13=36\n",
      "11+2+13=26\n",
      "1+12+13=26\n"
     ]
    }
   ],
   "source": [
    "# 매개변수에 기본값을 할당한 함수\n",
    "def my_add(a=1, b=2, c=3):\n",
    "    y=a+b+c\n",
    "    print(\"{0}+{1}+{2}={3}\".format(a, b, c, y))\n",
    "\n",
    "# 모든 매개변수가 기본값을 사용\n",
    "my_add()\n",
    "\n",
    "# 첫 번째 매개변수는 입력한 인수를 사용하고 나머지는 기본값을 사용\n",
    "my_add(11)\n",
    "\n",
    "# 첫번째와 두번쨰 매개변수는 입력한 인수를 사용하고 나머지는 기본값을 사용\n",
    "my_add(11, 12)\n",
    "\n",
    "# 모든 매개변수가 입력한 인수를 사용\n",
    "my_add(11, 12, 13)\n",
    "\n",
    "# 첫번째와 세번째 매개변수는 입력한 인수를 사용하고 두번째는 기본값을 사용\n",
    "my_add(11, c=13)\n",
    "\n",
    "# 두번째와 세번째 매개변수는 입력한 인수를 사용하고 첫번째는 기본값을 사용\n",
    "my_add(c=13, b=12)"
   ]
  },
  {
   "cell_type": "code",
   "execution_count": 10,
   "id": "9b7ce420",
   "metadata": {},
   "outputs": [
    {
     "name": "stdout",
     "output_type": "stream",
     "text": [
      "1+2+3+4=10\n",
      "1+2+13+4=20\n",
      "1+2+13+14=30\n",
      "1+2+3+14=20\n"
     ]
    }
   ],
   "source": [
    "# 매개변수와 기본값이 있는 매개변수를 함께 사용해 함수를 정의\n",
    "def my_add2(a, b, c=3, d=4):\n",
    "    y=a+b+c+d\n",
    "    print(\"{0}+{1}+{2}+{3}={4}\".format(a, b, c, d, y))\n",
    "    \n",
    "# 기본값 없는 매개변수는 반드시 인수 필요. c와 d에는 기본값 입력    \n",
    "my_add2(1, 2)   \n",
    "\n",
    "# d에는 기본값이 입력\n",
    "my_add2(1, 2, 13)\n",
    "\n",
    "# c와 d에 모두 인수로 지정한 값 입력\n",
    "my_add2(1, 2, 13, 14)\n",
    "\n",
    "# c에는 기본값이 입력\n",
    "my_add2(1, 2, d=14)"
   ]
  },
  {
   "cell_type": "markdown",
   "id": "7df931b9",
   "metadata": {},
   "source": [
    "### 2. 내장 함수"
   ]
  },
  {
   "cell_type": "code",
   "execution_count": null,
   "id": "9e5ff93e",
   "metadata": {},
   "outputs": [
    {
     "name": "stdout",
     "output_type": "stream",
     "text": [
      "정수로 변환:  [12, 1234, 0, -56]\n",
      "실수로 변환:  [12.0, 12.34, 56.0, -98.0]\n",
      "문자열로 변환:  ['12', '12.34']\n"
     ]
    }
   ],
   "source": [
    "# 내장함수 - 자료형 변환 \n",
    "print(\"정수로 변환: \", [int(12.34), int(\"1234\"), int(0.56), int(-56.78)])\n",
    "print(\"실수로 변환: \", [float(12), float(\"12.34\"), float(\"56\"), float(-98)])\n",
    "print(\"문자열로 변환: \", [str(12), str(12.34)])"
   ]
  },
  {
   "cell_type": "code",
   "execution_count": 14,
   "id": "5164f7f0",
   "metadata": {},
   "outputs": [
    {
     "name": "stdout",
     "output_type": "stream",
     "text": [
      "최소:  -2\n",
      "최대:  5\n",
      "합계:  12\n",
      "평균:  1.5\n"
     ]
    }
   ],
   "source": [
    "# 내장함수 - 최댓값, 최솟값\n",
    "list_data=[-2, -1, 0, 1, 2, 3, 4, 5]\n",
    "\n",
    "print(\"최소: \", min(list_data))\n",
    "print(\"최대: \", max(list_data))\n",
    "print(\"합계: \", sum(list_data))\n",
    "\n",
    "mean=sum(list_data)/len(list_data)\n",
    "print(\"평균: \", mean)"
   ]
  },
  {
   "cell_type": "code",
   "execution_count": 16,
   "id": "8ab55cb0",
   "metadata": {},
   "outputs": [
    {
     "name": "stdout",
     "output_type": "stream",
     "text": [
      "세트 데이터:  {0, 1, 2, 3, -1, -2}\n",
      "최소: -2, 최대: 3\n",
      "합계: 3, 데이터 개수: 6\n"
     ]
    }
   ],
   "source": [
    "set_data={-2, -1, 0, 1, 2, 3, 3, 3}     # 중복 요소는 제거하고 세트 생성\n",
    "\n",
    "print(\"세트 데이터: \", set_data)\n",
    "print(\"최소: {}, 최대: {}\".format(min(set_data), max(set_data)))\n",
    "print(\"합계: {}, 데이터 개수: {}\".format(sum(set_data), len(set_data)))"
   ]
  },
  {
   "cell_type": "code",
   "execution_count": 18,
   "id": "4f310626",
   "metadata": {},
   "outputs": [
    {
     "name": "stdout",
     "output_type": "stream",
     "text": [
      "안녕하세요, 홍길동님! 당신의 나이는 20 살로 성인입니다\n"
     ]
    }
   ],
   "source": [
    "# 내장함수 - 입력함수\n",
    "name=input(\"이름을 입력하세요: \")\n",
    "age=int(input(\"나이를 입력하세요: \"))\n",
    "\n",
    "if age >= 20:\n",
    "    print(f\"안녕하세요, {name}님! 당신의 나이는 {age} 살로 성인입니다\")\n",
    "else:\n",
    "    print(f\"안녕하세요, {name}님! 당신의 나이는 {age} 살로 성인이 아닙니다\")"
   ]
  },
  {
   "cell_type": "code",
   "execution_count": 19,
   "id": "e5d78c92",
   "metadata": {},
   "outputs": [
    {
     "name": "stdout",
     "output_type": "stream",
     "text": [
      "BMI: 25.35\n"
     ]
    }
   ],
   "source": [
    "height=float(input(\"키 입력(cm): \"))\n",
    "weight=float(input(\"몸무게 입력(kg): \"))\n",
    "\n",
    "BMI=weight/((height/100)**2)\n",
    "print(f\"BMI: {BMI:.2f}\")"
   ]
  }
 ],
 "metadata": {
  "kernelspec": {
   "display_name": "Python 3",
   "language": "python",
   "name": "python3"
  },
  "language_info": {
   "codemirror_mode": {
    "name": "ipython",
    "version": 3
   },
   "file_extension": ".py",
   "mimetype": "text/x-python",
   "name": "python",
   "nbconvert_exporter": "python",
   "pygments_lexer": "ipython3",
   "version": "3.10.6"
  }
 },
 "nbformat": 4,
 "nbformat_minor": 5
}
