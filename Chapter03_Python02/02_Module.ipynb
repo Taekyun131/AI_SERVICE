{
 "cells": [
  {
   "cell_type": "markdown",
   "id": "b75d3e7e",
   "metadata": {},
   "source": [
    "## 모듈"
   ]
  },
  {
   "cell_type": "markdown",
   "id": "1c7e2db7",
   "metadata": {},
   "source": [
    "### 1. 모듈 만들고 불러오기"
   ]
  },
  {
   "cell_type": "code",
   "execution_count": null,
   "id": "8e1eb6ec",
   "metadata": {},
   "outputs": [
    {
     "name": "stdout",
     "output_type": "stream",
     "text": [
      "Writing D:/study/PYTHON/AI/Chapter03_Python02/module/calc_area.py\n"
     ]
    }
   ],
   "source": [
    "%%writefile D:/study/PYTHON/AI/Chapter03_Python02/module/calc_area.py\n",
    "# 모듈 생성\n",
    "\n",
    "PI=3.14\n",
    "def rectangle(l, w):\n",
    "    return l*w\n",
    "\n",
    "def circle(r):\n",
    "    return PI*r**2"
   ]
  },
  {
   "cell_type": "code",
   "execution_count": 7,
   "id": "8d3f532a",
   "metadata": {},
   "outputs": [
    {
     "name": "stdout",
     "output_type": "stream",
     "text": [
      "Writing D:/study/PYTHON/AI/Chapter03_Python02/module/car.py\n"
     ]
    }
   ],
   "source": [
    "%%writefile D:/study/PYTHON/AI/Chapter03_Python02/module/car.py\n",
    "# File name: car.py\n",
    "\n",
    "class Car():\n",
    "    def __init__(self, size, color):\n",
    "        self.size=size\n",
    "        self.color=color\n",
    "        \n",
    "    def move(self):\n",
    "        print(\"자동차({0}&{1})가 움직입니다.\".format(self.size, self.color))"
   ]
  },
  {
   "cell_type": "code",
   "execution_count": 15,
   "id": "7479b83f",
   "metadata": {},
   "outputs": [
    {
     "name": "stdout",
     "output_type": "stream",
     "text": [
      "원주율:3.14, 직사각형 넓이: 10, 원의 넓이: 28.26\n"
     ]
    }
   ],
   "source": [
    "import module.calc_area    # 모듈 임포트\n",
    "\n",
    "pi=calc_area.PI     # 임포트한 모듈의 변수 사용\n",
    "rect=calc_area.rectangle(5, 2)  # 임포트한 모듈의 함수를 호출\n",
    "circ=calc_area.circle(3)        # 임포트한 모듈의 함수를 호출\n",
    "\n",
    "print(f\"원주율:{pi}, 직사각형 넓이: {rect}, 원의 넓이: {circ}\")\n"
   ]
  },
  {
   "cell_type": "code",
   "execution_count": 16,
   "id": "0ca9cd18",
   "metadata": {},
   "outputs": [
    {
     "name": "stdout",
     "output_type": "stream",
     "text": [
      "자동차(중형&검은색)가 움직입니다.\n"
     ]
    }
   ],
   "source": [
    "import module.car\n",
    "my_car=car.Car(\"중형\", \"검은색\")    # 임포트한 모듈의 클래스에서 객체를 생성\n",
    "my_car.move()"
   ]
  },
  {
   "cell_type": "code",
   "execution_count": 13,
   "id": "4f6a387f",
   "metadata": {},
   "outputs": [
    {
     "name": "stdout",
     "output_type": "stream",
     "text": [
      "원주율: 3.14, 직사각형 넓이: 10, 원의 넓이: 28.26\n"
     ]
    }
   ],
   "source": [
    "from module.calc_area import PI, rectangle, circle # 모듈의 변수, 함수를 임포트\n",
    "\n",
    "pi=PI\n",
    "rect=rectangle(5, 2)\n",
    "circ=circle(3)\n",
    "print(f\"원주율: {pi}, 직사각형 넓이: {rect}, 원의 넓이: {circ}\")"
   ]
  },
  {
   "cell_type": "code",
   "execution_count": 17,
   "id": "ebdd0cb1",
   "metadata": {},
   "outputs": [
    {
     "name": "stdout",
     "output_type": "stream",
     "text": [
      "원주율: 3.14, 직사각형 넓이: 10, 원의 넓이: 28.26\n"
     ]
    }
   ],
   "source": [
    "import module.calc_area as area     # 모듈을 임포트해 별명으로 지정\n",
    "\n",
    "pi=area.PI\n",
    "rect=area.rectangle(5, 2)\n",
    "circ=area.circle(3)\n",
    "\n",
    "print(f\"원주율: {pi}, 직사각형 넓이: {rect}, 원의 넓이: {circ}\")"
   ]
  },
  {
   "cell_type": "code",
   "execution_count": 19,
   "id": "ba5470a5",
   "metadata": {},
   "outputs": [
    {
     "name": "stdout",
     "output_type": "stream",
     "text": [
      "원주율: 3.14, 직사각형 넓이: 10, 원의 넓이: 28.26\n"
     ]
    }
   ],
   "source": [
    "from module.calc_area import PI as pi\n",
    "from module.calc_area import rectangle as rect\n",
    "from module.calc_area import circle as circ\n",
    "\n",
    "p=pi\n",
    "r=rect(5, 2)\n",
    "c=circ(3)\n",
    "\n",
    "print(f\"원주율: {p}, 직사각형 넓이: {r}, 원의 넓이: {c}\")"
   ]
  },
  {
   "cell_type": "markdown",
   "id": "a31745f5",
   "metadata": {},
   "source": [
    "### 2. 내장 모듈"
   ]
  },
  {
   "cell_type": "code",
   "execution_count": 20,
   "id": "cee11bb1",
   "metadata": {},
   "outputs": [
    {
     "name": "stdout",
     "output_type": "stream",
     "text": [
      "-파일의 전체 경로:  D:\\study\\PYTHON\\AI\\Chapter03_Python02\\module\\car.py\n",
      "-파일의 디렉터리:  D:\\study\\PYTHON\\AI\\Chapter03_Python02\\module\n",
      "-파일명:  car.py\n",
      "-파일의 확장자:  .py\n",
      "-확장자 제외한 파일명:  car\n"
     ]
    }
   ],
   "source": [
    "# 내장모듈 - 파일과 경로 처리\n",
    "from pathlib import Path\n",
    "\n",
    "# 파일의 경로 입력해 Path 클래스에서 file_path 객체 생성\n",
    "file_path=Path('D:/study/PYTHON/AI/Chapter03_Python02/module/car.py')\n",
    "\n",
    "print(\"-파일의 전체 경로: \", file_path)\n",
    "print(\"-파일의 디렉터리: \", file_path.parent)\n",
    "print(\"-파일명: \", file_path.name)\n",
    "print(\"-파일의 확장자: \", file_path.suffix)\n",
    "print(\"-확장자 제외한 파일명: \", file_path.stem)"
   ]
  },
  {
   "cell_type": "code",
   "execution_count": 21,
   "id": "20d7fa0c",
   "metadata": {},
   "outputs": [
    {
     "name": "stdout",
     "output_type": "stream",
     "text": [
      "-지정한 경로:  D:\\study\\PYTHON\\AI\\Chapter03_Python02\\module\n",
      "-경로 존재 여부 확인:  True\n",
      "-경로가 디렉터기(폴더)인지 확인:  True\n",
      "-경로가 파일인지 확인:  False\n",
      "-홈 디렉터리:  C:\\Users\\신태균\n"
     ]
    }
   ],
   "source": [
    "from pathlib import Path\n",
    "\n",
    "dir_path=Path(\"D:/study/PYTHON/AI/Chapter03_Python02/module\")\n",
    "\n",
    "print(\"-지정한 경로: \", dir_path)\n",
    "print(\"-경로 존재 여부 확인: \", dir_path.exists())\n",
    "print(\"-경로가 디렉터기(폴더)인지 확인: \", dir_path.is_dir())\n",
    "print(\"-경로가 파일인지 확인: \", dir_path.is_file())\n",
    "print(\"-홈 디렉터리: \", dir_path.home())"
   ]
  },
  {
   "cell_type": "code",
   "execution_count": 22,
   "id": "4f250674",
   "metadata": {},
   "outputs": [
    {
     "name": "stdout",
     "output_type": "stream",
     "text": [
      "D:\\study\\PYTHON\\AI\\Chapter03_Python02\\module\\st 디렉터리의 존재 여부: True\n"
     ]
    }
   ],
   "source": [
    "from pathlib import Path\n",
    "\n",
    "# 디렉터리 경로를 입력해 path 객체 생성\n",
    "dir_path=Path(\"D:/study/PYTHON/AI/Chapter03_Python02/module/st\")\n",
    "\n",
    "# 디렉터리가 없다면 생성\n",
    "dir_path.mkdir(parents=True, exist_ok=True)\n",
    "\n",
    "# 생성한 디렉터리의 존재 여부 확인\n",
    "print(\"{0} 디렉터리의 존재 여부: {1}\".format(dir_path, dir_path.exists()))"
   ]
  },
  {
   "cell_type": "code",
   "execution_count": 23,
   "id": "58b36bb8",
   "metadata": {},
   "outputs": [
    {
     "name": "stdout",
     "output_type": "stream",
     "text": [
      "[date 클래스로 날짜 지정] 2023-10-09\n",
      "[date 클래스의 속성 이용] 2023/10/9\n",
      "[time 클래스로 시각 지정] 15:23:21\n",
      "[time 클래스의 속성 지정]15/23/21\n",
      "[datetime 클래스로 날짜와 시각 지정] 2024-08-15 20:19:45\n"
     ]
    }
   ],
   "source": [
    "# 내장모듈 - 날짜와 시간 처리 모듈\n",
    "from datetime import date, time, datetime, timedelta\n",
    "\n",
    "date_obj=date(2023, 10, 9)  # 날짜 지정\n",
    "time_obj=time(15, 23, 21)   # 시각 지정\n",
    "datetime_obj=datetime(2024, 8, 15, 20, 19, 45)  # 날짜와 시각 지정\n",
    "\n",
    "print(\"[date 클래스로 날짜 지정]\", date_obj)\n",
    "print(\"[date 클래스의 속성 이용] {0}/{1}/{2}\".format(date_obj.year, date_obj.month, date_obj.day))\n",
    "\n",
    "print(\"[time 클래스로 시각 지정]\", time_obj)\n",
    "print(\"[time 클래스의 속성 지정]{0}/{1}/{2}\".format(time_obj.hour, time_obj.minute, time_obj.second))\n",
    "\n",
    "print(\"[datetime 클래스로 날짜와 시각 지정]\", datetime_obj)"
   ]
  },
  {
   "cell_type": "code",
   "execution_count": 28,
   "id": "9c40f7d5",
   "metadata": {},
   "outputs": [
    {
     "data": {
      "text/plain": [
       "datetime.timedelta(days=6)"
      ]
     },
     "execution_count": 28,
     "metadata": {},
     "output_type": "execute_result"
    }
   ],
   "source": [
    "date_obj2=date(2023, 10, 15)    # 날짜 지정\n",
    "diff_date=date_obj2-date_obj    # date 객체의 날짜 차이를 연산\n",
    "\n",
    "diff_date"
   ]
  },
  {
   "cell_type": "code",
   "execution_count": 29,
   "id": "3eebc4aa",
   "metadata": {},
   "outputs": [
    {
     "name": "stdout",
     "output_type": "stream",
     "text": [
      "두 날짜의 차이: 6일\n"
     ]
    }
   ],
   "source": [
    "print(\"두 날짜의 차이: {}일\".format(diff_date.days))"
   ]
  },
  {
   "cell_type": "code",
   "execution_count": 30,
   "id": "2f67fb97",
   "metadata": {},
   "outputs": [
    {
     "name": "stdout",
     "output_type": "stream",
     "text": [
      "지정 날짜: 2023-05-15, 일주일 전 날짜 2023-05-08\n"
     ]
    }
   ],
   "source": [
    "date_org=date(2023, 5, 15)  # 날짜 지정\n",
    "date_result=date_org-timedelta(weeks=1) # 일주일 전의 날짜 계산\n",
    "print(\"지정 날짜: {0}, 일주일 전 날짜 {1}\".format(date_org, date_result))"
   ]
  },
  {
   "cell_type": "code",
   "execution_count": 31,
   "id": "927d6b42",
   "metadata": {},
   "outputs": [
    {
     "name": "stdout",
     "output_type": "stream",
     "text": [
      "2023-11-15 00:30:00\n"
     ]
    }
   ],
   "source": [
    "# 날짜 및 시간 지정\n",
    "datetime_org=datetime(2023, 11, 14, 23, 0 , 0)\n",
    "\n",
    "# 1시간 30분 후 날짜 및 시각 계산\n",
    "datetime_result=datetime_org+timedelta(hours=1, minutes=30)\n",
    "\n",
    "print(datetime_result)"
   ]
  },
  {
   "cell_type": "code",
   "execution_count": 33,
   "id": "4dfa3b53",
   "metadata": {},
   "outputs": [
    {
     "name": "stdout",
     "output_type": "stream",
     "text": [
      "-오늘의 날짜: 2025-5-13\n",
      "-현재의 날짜 및 시각(전체 표시):  2025-05-13 12:38:03.722141\n",
      "-현재의 날짜: 2025-5-13\n",
      "-현재의 시각: 12:38:3\n"
     ]
    }
   ],
   "source": [
    "today=date.today()\n",
    "now=datetime.now()\n",
    "\n",
    "print(\"-오늘의 날짜: {0}-{1}-{2}\".format(today.year, today.month, today.day))\n",
    "print(\"-현재의 날짜 및 시각(전체 표시): \", now)\n",
    "print(\"-현재의 날짜: {0}-{1}-{2}\".format(now.year, now.month, now.day))\n",
    "print(\"-현재의 시각: {0}:{1}:{2}\".format(now.hour, now.minute, now.second))"
   ]
  },
  {
   "cell_type": "code",
   "execution_count": 35,
   "id": "7d0a67ef",
   "metadata": {},
   "outputs": [
    {
     "name": "stdout",
     "output_type": "stream",
     "text": [
      "-날짜 표시: 23년 04월 08일\n",
      "-날짜 표시(다른 표현): 23-04-08\n",
      "-시각 표시: 13시 30분 00초 (PM)\n",
      "-시각 표시(다른 표현): 13/30/00 (PM)\n",
      "-요일 표시: Saturday, Sat, 6\n",
      "-월 표시: April, Apr\n"
     ]
    }
   ],
   "source": [
    "special_day=datetime(2023, 4, 8, 13, 30, 0)\n",
    "\n",
    "print(\"-날짜 표시: {0:%y}년 {0:%m}월 {0:%d}일\".format(special_day))\n",
    "print(\"-날짜 표시(다른 표현): {:%y-%m-%d}\".format(special_day))\n",
    "print(\"-시각 표시: {0:%H}시 {0:%M}분 {0:%S}초 ({0:%p})\".format(special_day))\n",
    "print(\"-시각 표시(다른 표현): {:%H/%M/%S (%p)}\".format(special_day))\n",
    "print(\"-요일 표시: {0:%A}, {0:%a}, {0:%w}\".format(special_day))\n",
    "print(\"-월 표시: {0:%B}, {0:%b}\".format(special_day))"
   ]
  },
  {
   "cell_type": "code",
   "execution_count": 36,
   "id": "e0c7a755",
   "metadata": {},
   "outputs": [
    {
     "name": "stdout",
     "output_type": "stream",
     "text": [
      "*설정한 로케일:  ('ko_KR', 'UTF-8')\n",
      "-요일 표시(한글/한국): 토요일, 토\n",
      "-월 표시(한글/한국): 4월, 4\n",
      "*설정한 로케일:  ('en_US', 'UTF-8')\n",
      "-요일 표시(영어/미국): Saturday, Sat\n",
      "-월 표시(영어/미국): April, Apr\n"
     ]
    }
   ],
   "source": [
    "import locale\n",
    "\n",
    "# 한글, 한국, UTF-8 인코딩을 로케일로 짖정\n",
    "locale.setlocale(locale.LC_ALL, 'ko_KR.UTF-8')\n",
    "\n",
    "print(\"*설정한 로케일: \", locale.getlocale())   # 설정한 로케일 가져오기\n",
    "print(\"-요일 표시(한글/한국): {0:%A}, {0:%a}\".format(special_day))\n",
    "print(\"-월 표시(한글/한국): {0:%B}, {0:%b}\".format(special_day))\n",
    "\n",
    "# 영어, 미국, UTF-8 인코딩을 로케일로 지정\n",
    "locale.setlocale(locale.LC_ALL, 'en_US.UTF-8')\n",
    "\n",
    "print(\"*설정한 로케일: \", locale.getlocale())   # 설정한 로케일 가져오기\n",
    "print(\"-요일 표시(영어/미국): {0:%A}, {0:%a}\".format(special_day))\n",
    "print(\"-월 표시(영어/미국): {0:%B}, {0:%b}\".format(special_day))"
   ]
  }
 ],
 "metadata": {
  "kernelspec": {
   "display_name": "Python 3",
   "language": "python",
   "name": "python3"
  },
  "language_info": {
   "codemirror_mode": {
    "name": "ipython",
    "version": 3
   },
   "file_extension": ".py",
   "mimetype": "text/x-python",
   "name": "python",
   "nbconvert_exporter": "python",
   "pygments_lexer": "ipython3",
   "version": "3.10.6"
  }
 },
 "nbformat": 4,
 "nbformat_minor": 5
}
