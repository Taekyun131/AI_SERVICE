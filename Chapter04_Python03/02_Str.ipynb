{
 "cells": [
  {
   "cell_type": "markdown",
   "id": "746daac5",
   "metadata": {},
   "source": [
    "### 2. 문자열 처리"
   ]
  },
  {
   "cell_type": "markdown",
   "id": "2ec316ac",
   "metadata": {},
   "source": [
    "#### 문자열 분리"
   ]
  },
  {
   "cell_type": "code",
   "execution_count": null,
   "id": "85fe49ac",
   "metadata": {},
   "outputs": [
    {
     "data": {
      "text/plain": [
       "['에스프레소', ' 아메리카노', ' 카페라떼', ' 카푸치노']"
      ]
     },
     "execution_count": 1,
     "metadata": {},
     "output_type": "execute_result"
    }
   ],
   "source": [
    "# ','를 구분자로 문자열 분리\n",
    "\"에스프레소, 아메리카노, 카페라떼, 카푸치노\".split(',')\n"
   ]
  },
  {
   "cell_type": "code",
   "execution_count": null,
   "id": "e6b5c990",
   "metadata": {},
   "outputs": [
    {
     "data": {
      "text/plain": [
       "['에스프레소', '아메리카노', '카페라떼', '카푸치노']"
      ]
     },
     "execution_count": 2,
     "metadata": {},
     "output_type": "execute_result"
    }
   ],
   "source": [
    "# 모든 공백과 개행문자를 없애고 단어 분리\n",
    "\" 에스프레소 아메리카노  카페라떼   카푸치노\\n\".split()"
   ]
  },
  {
   "cell_type": "markdown",
   "id": "ad515644",
   "metadata": {},
   "source": [
    "#### 문자열 삭제"
   ]
  },
  {
   "cell_type": "code",
   "execution_count": 3,
   "id": "34442374",
   "metadata": {},
   "outputs": [
    {
     "data": {
      "text/plain": [
       "'Python'"
      ]
     },
     "execution_count": 3,
     "metadata": {},
     "output_type": "execute_result"
    }
   ],
   "source": [
    "# 불필요한 'a' 삭제\n",
    "\"aaaaaPythonaaa\".strip('a')"
   ]
  },
  {
   "cell_type": "code",
   "execution_count": 4,
   "id": "8462cf4c",
   "metadata": {},
   "outputs": [
    {
     "data": {
      "text/plain": [
       "'Python'"
      ]
     },
     "execution_count": 4,
     "metadata": {},
     "output_type": "execute_result"
    }
   ],
   "source": [
    "# 문자열의 공백과 개행문자 삭제\n",
    "\"\\n  Python   \\n\\n \".strip()"
   ]
  },
  {
   "cell_type": "markdown",
   "id": "425713c8",
   "metadata": {},
   "source": [
    "#### 문자열 연결"
   ]
  },
  {
   "cell_type": "code",
   "execution_count": null,
   "id": "8e251a49",
   "metadata": {},
   "outputs": [
    {
     "data": {
      "text/plain": [
       "'서울시 서초구 반포대로 201(반포동)'"
      ]
     },
     "execution_count": 5,
     "metadata": {},
     "output_type": "execute_result"
    }
   ],
   "source": [
    "# 구분자 \" \"로 문자열 연결\n",
    "\" \".join([\"서울시\", \"서초구\", \"반포대로\", \"201(반포동)\"])"
   ]
  },
  {
   "cell_type": "code",
   "execution_count": 6,
   "id": "faaabc77",
   "metadata": {},
   "outputs": [
    {
     "data": {
      "text/plain": [
       "'서울시****서초구****반포대로****201(반포동)'"
      ]
     },
     "execution_count": 6,
     "metadata": {},
     "output_type": "execute_result"
    }
   ],
   "source": [
    "# 구분자 \"****\"로 문자열 연결\n",
    "\"****\".join([\"서울시\", \"서초구\", \"반포대로\", \"201(반포동)\"])"
   ]
  },
  {
   "cell_type": "code",
   "execution_count": 7,
   "id": "79fcd09e",
   "metadata": {},
   "outputs": [
    {
     "data": {
      "text/plain": [
       "'서울시\\n서초구\\n반포대로\\n201(반포동)'"
      ]
     },
     "execution_count": 7,
     "metadata": {},
     "output_type": "execute_result"
    }
   ],
   "source": [
    "joined_str=\"\\n\".join([\"서울시\", \"서초구\", \"반포대로\", \"201(반포동)\"])\n",
    "joined_str"
   ]
  },
  {
   "cell_type": "code",
   "execution_count": 8,
   "id": "3bd22b08",
   "metadata": {},
   "outputs": [
    {
     "name": "stdout",
     "output_type": "stream",
     "text": [
      "서울시\n",
      "서초구\n",
      "반포대로\n",
      "201(반포동)\n"
     ]
    }
   ],
   "source": [
    "print(joined_str)"
   ]
  },
  {
   "cell_type": "markdown",
   "id": "59bdbd91",
   "metadata": {},
   "source": [
    "### 3. 내장 모듈을 활용한 문자열 처리"
   ]
  },
  {
   "cell_type": "markdown",
   "id": "e29e9a82",
   "metadata": {},
   "source": [
    "#### 문자열 나누기"
   ]
  },
  {
   "cell_type": "code",
   "execution_count": 9,
   "id": "ef24dd8a",
   "metadata": {},
   "outputs": [
    {
     "name": "stdout",
     "output_type": "stream",
     "text": [
      "파이썬은 배우기 쉬운 프로그래밍 언어입니다. 아주 편리한 언어죠파이썬은 배우기 쉬운 프로그래밍 언어입니다. 아주 편리한 언어죠파이썬은 배우기 쉬운 프로그래밍 언어입니다. 아주 편리한 언어죠\n"
     ]
    },
    {
     "data": {
      "text/plain": [
       "['파이썬은 배우기 쉬운',\n",
       " '프로그래밍 언어입니다. 아주',\n",
       " '편리한 언어죠파이썬은 배우기',\n",
       " '쉬운 프로그래밍 언어입니다.',\n",
       " '아주 편리한 언어죠파이썬은',\n",
       " '배우기 쉬운 프로그래밍',\n",
       " '언어입니다. 아주 편리한',\n",
       " '언어죠']"
      ]
     },
     "execution_count": 9,
     "metadata": {},
     "output_type": "execute_result"
    }
   ],
   "source": [
    "import textwrap\n",
    "\n",
    "# 긴 텍스트를 생성\n",
    "text=\"파이썬은 배우기 쉬운 프로그래밍 언어입니다. 아주 편리한 언어죠\"*3\n",
    "print(text)\n",
    "\n",
    "textwrap.wrap(text, width=16)"
   ]
  },
  {
   "cell_type": "code",
   "execution_count": 10,
   "id": "d573f91f",
   "metadata": {},
   "outputs": [
    {
     "data": {
      "text/plain": [
       "['파이썬은 배우기 쉬운 프로그래밍',\n",
       " '언어입니다. 아주 편리한',\n",
       " '언어죠파이썬은 배우기 쉬운 프로그래밍',\n",
       " '언어입니다. 아주 편리한',\n",
       " '언어죠파이썬은 배우기 쉬운 프로그래밍',\n",
       " '언어입니다. 아주 편리한 언어죠']"
      ]
     },
     "execution_count": 10,
     "metadata": {},
     "output_type": "execute_result"
    }
   ],
   "source": [
    "textwrap.wrap(text, width=20)"
   ]
  },
  {
   "cell_type": "markdown",
   "id": "c8c7d911",
   "metadata": {},
   "source": [
    "#### 문자열 축약하기"
   ]
  },
  {
   "cell_type": "code",
   "execution_count": 11,
   "id": "5fb07267",
   "metadata": {},
   "outputs": [
    {
     "data": {
      "text/plain": [
       "'안녕. 나는 인공 지능 로봇이야'"
      ]
     },
     "execution_count": 11,
     "metadata": {},
     "output_type": "execute_result"
    }
   ],
   "source": [
    "textwrap.shorten(\"안녕. 나는 인공 지능 로봇이야\", width=20)"
   ]
  },
  {
   "cell_type": "code",
   "execution_count": 12,
   "id": "8d8fe555",
   "metadata": {},
   "outputs": [
    {
     "data": {
      "text/plain": [
       "'안녕. 나는 인공 [...]'"
      ]
     },
     "execution_count": 12,
     "metadata": {},
     "output_type": "execute_result"
    }
   ],
   "source": [
    "textwrap.shorten(\"안녕. 나는 인공 지능 로봇이야\", width=15)"
   ]
  },
  {
   "cell_type": "code",
   "execution_count": 13,
   "id": "f2f7766b",
   "metadata": {},
   "outputs": [
    {
     "data": {
      "text/plain": [
       "'안녕. 나는 인공..'"
      ]
     },
     "execution_count": 13,
     "metadata": {},
     "output_type": "execute_result"
    }
   ],
   "source": [
    "textwrap.shorten(\"안녕. 나는 인공 지능 로봇이야\", width=12, placeholder=\"..\")"
   ]
  },
  {
   "cell_type": "code",
   "execution_count": null,
   "id": "de608984",
   "metadata": {},
   "outputs": [
    {
     "name": "stdout",
     "output_type": "stream",
     "text": [
      "- 원본 문자열 길이:  35\n",
      "- 축약 문자열 길이:  24\n",
      "- 축약 문자열:  파이썬은 배우기 쉬운 프로그래밍 언어입니다.\n"
     ]
    }
   ],
   "source": [
    "# shorten() 함수 사용 시 공백 제거\n",
    "text=\"   파이썬은 배우기   쉬운   프로그래밍 언어입니다.    \"\n",
    "shorten_text=textwrap.shorten(text, 25)\n",
    "\n",
    "print(\"- 원본 문자열 길이: \", len(text))\n",
    "print(\"- 축약 문자열 길이: \", len(shorten_text))\n",
    "print(\"- 축약 문자열: \", shorten_text)"
   ]
  },
  {
   "cell_type": "code",
   "execution_count": 15,
   "id": "ab15f0e1",
   "metadata": {},
   "outputs": [
    {
     "name": "stdout",
     "output_type": "stream",
     "text": [
      "- 축약 문자열 길이:  20\n",
      "- 축약 문자열:  파이썬은 배우기 [..이하 생략..]\n"
     ]
    }
   ],
   "source": [
    "# placeholder 사용\n",
    "shorten_text=textwrap.shorten(text, 20, placeholder=' [..이하 생략..]')\n",
    "\n",
    "print(\"- 축약 문자열 길이: \", len(shorten_text))\n",
    "print(\"- 축약 문자열: \", shorten_text)"
   ]
  }
 ],
 "metadata": {
  "kernelspec": {
   "display_name": "Python 3",
   "language": "python",
   "name": "python3"
  },
  "language_info": {
   "codemirror_mode": {
    "name": "ipython",
    "version": 3
   },
   "file_extension": ".py",
   "mimetype": "text/x-python",
   "name": "python",
   "nbconvert_exporter": "python",
   "pygments_lexer": "ipython3",
   "version": "3.10.6"
  }
 },
 "nbformat": 4,
 "nbformat_minor": 5
}
