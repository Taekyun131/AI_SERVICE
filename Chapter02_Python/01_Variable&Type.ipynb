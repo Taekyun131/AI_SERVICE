{
 "cells": [
  {
   "cell_type": "markdown",
   "id": "aa7c3616",
   "metadata": {},
   "source": [
    "## 변수와 자료형"
   ]
  },
  {
   "cell_type": "markdown",
   "id": "3287ae84",
   "metadata": {},
   "source": [
    "### 1. 변수"
   ]
  },
  {
   "cell_type": "markdown",
   "id": "eea223d7",
   "metadata": {},
   "source": [
    "- 자료를 저장하는 공간\n",
    "- 자료를 변수에 할당하고, 필요할 때 변수의 내용을 활용\n",
    "- \"변수명=자료\" 형태로 자료를 할당"
   ]
  },
  {
   "cell_type": "code",
   "execution_count": 1,
   "id": "5e8b099b",
   "metadata": {},
   "outputs": [
    {
     "name": "stdout",
     "output_type": "stream",
     "text": [
      "1234\n",
      "Python is powerful.\n"
     ]
    }
   ],
   "source": [
    "# 변수에 자료를 할당하는 예제\n",
    "n=1234\n",
    "s=\"Python is powerful.\"\n",
    "\n",
    "print(n)\n",
    "print(s)"
   ]
  },
  {
   "cell_type": "markdown",
   "id": "f0a680e7",
   "metadata": {},
   "source": [
    "### 2. 숫자(int, float)"
   ]
  },
  {
   "cell_type": "markdown",
   "id": "f6629acd",
   "metadata": {},
   "source": [
    "- 정수형: int\n",
    "- 실수형: float"
   ]
  },
  {
   "cell_type": "code",
   "execution_count": 3,
   "id": "005e59d9",
   "metadata": {},
   "outputs": [
    {
     "name": "stdout",
     "output_type": "stream",
     "text": [
      "<class 'int'>\n",
      "<class 'float'>\n"
     ]
    }
   ],
   "source": [
    "# 자료형 확인\n",
    "print(type(123))\n",
    "print(type(123.45))"
   ]
  },
  {
   "cell_type": "code",
   "execution_count": 4,
   "id": "43bb82ea",
   "metadata": {},
   "outputs": [
    {
     "name": "stdout",
     "output_type": "stream",
     "text": [
      "7\n",
      "3\n",
      "10\n",
      "2.5\n",
      "2\n",
      "1\n",
      "25\n"
     ]
    }
   ],
   "source": [
    "# 산술 연산자를 사용\n",
    "print(5+2)  # 더하기\n",
    "print(5-2)  # 빼기\n",
    "print(5*2)  # 곱하기\n",
    "print(5/2)  # 나누기\n",
    "print(5//2) # 몫 구하기\n",
    "print(5%2)  # 나머지 구하기\n",
    "print(5**2) # 거듭제곱"
   ]
  },
  {
   "cell_type": "code",
   "execution_count": 6,
   "id": "b80a303e",
   "metadata": {},
   "outputs": [
    {
     "data": {
      "text/plain": [
       "4.0"
      ]
     },
     "execution_count": 6,
     "metadata": {},
     "output_type": "execute_result"
    }
   ],
   "source": [
    "# 복합 연산 - 일반적인 연산규칙에 따라 계산수행\n",
    "(10/5+(5-2))*(1.2+2)/2**2"
   ]
  },
  {
   "cell_type": "markdown",
   "id": "5abcee7a",
   "metadata": {},
   "source": [
    "### 3. 문자열"
   ]
  },
  {
   "cell_type": "code",
   "execution_count": 7,
   "id": "56938b29",
   "metadata": {},
   "outputs": [
    {
     "name": "stdout",
     "output_type": "stream",
     "text": [
      "String\n",
      "Test\n"
     ]
    }
   ],
   "source": [
    "print(\"String\")\n",
    "print('Test')"
   ]
  },
  {
   "cell_type": "code",
   "execution_count": 9,
   "id": "dd901541",
   "metadata": {},
   "outputs": [
    {
     "name": "stdout",
     "output_type": "stream",
     "text": [
      "It's OK.\n",
      "그는 \"파이썬이 무엇입니까?\"라고 물었습니다.\n"
     ]
    }
   ],
   "source": [
    "print(\"It's OK.\")\n",
    "print('그는 \"파이썬이 무엇입니까?\"라고 물었습니다.')"
   ]
  },
  {
   "cell_type": "code",
   "execution_count": null,
   "id": "c18d607a",
   "metadata": {},
   "outputs": [
    {
     "data": {
      "text/plain": [
       "str"
      ]
     },
     "execution_count": 10,
     "metadata": {},
     "output_type": "execute_result"
    }
   ],
   "source": [
    "# 자료형 확인\n",
    "type('Hello Python!')"
   ]
  },
  {
   "cell_type": "code",
   "execution_count": 13,
   "id": "2e6b42b1",
   "metadata": {},
   "outputs": [
    {
     "name": "stdout",
     "output_type": "stream",
     "text": [
      "Hello Python!\n",
      "PythonPythonPython\n"
     ]
    }
   ],
   "source": [
    "# 문자열에 연산자 사용\n",
    "print(\"Hello\"+\" \"+ \"Python\"+\"!\")\n",
    "print(\"Python\"*3)"
   ]
  },
  {
   "cell_type": "code",
   "execution_count": 14,
   "id": "93cdcc48",
   "metadata": {},
   "outputs": [
    {
     "name": "stdout",
     "output_type": "stream",
     "text": [
      "6\n",
      "7\n"
     ]
    }
   ],
   "source": [
    "# 문자열 길이출력\n",
    "print(len(\"Python\"))\n",
    "print(len(\"Python \"))"
   ]
  },
  {
   "cell_type": "code",
   "execution_count": 15,
   "id": "26ad6584",
   "metadata": {},
   "outputs": [
    {
     "name": "stdout",
     "output_type": "stream",
     "text": [
      "판결문에서 긴 법률명을 줄여 쓸 때\n",
      "소괄호 안에 \"이하 '~~법' 이라 한다\"라고 쓴다.\n"
     ]
    }
   ],
   "source": [
    "# 여러 행으로 된 문장이나 따옴표를 포함한 문장\n",
    "long_str='''판결문에서 긴 법률명을 줄여 쓸 때\n",
    "소괄호 안에 \"이하 '~~법' 이라 한다\"라고 쓴다.'''\n",
    "print(long_str)"
   ]
  },
  {
   "cell_type": "markdown",
   "id": "b2d6cd71",
   "metadata": {},
   "source": [
    "### 4. 불(bool)"
   ]
  },
  {
   "cell_type": "markdown",
   "id": "62023cf6",
   "metadata": {},
   "source": [
    "- 논리적으로 참(True)과 거짓(False)를 표현하는 자료형"
   ]
  },
  {
   "cell_type": "code",
   "execution_count": 16,
   "id": "ef4d8678",
   "metadata": {},
   "outputs": [
    {
     "name": "stdout",
     "output_type": "stream",
     "text": [
      "False\n",
      "True\n",
      "True\n"
     ]
    }
   ],
   "source": [
    "# 논리 연산 수행\n",
    "print(True and False)\n",
    "print(True or False)\n",
    "print(not False)"
   ]
  },
  {
   "cell_type": "code",
   "execution_count": 17,
   "id": "576dd64c",
   "metadata": {},
   "outputs": [
    {
     "name": "stdout",
     "output_type": "stream",
     "text": [
      "False\n",
      "True\n",
      "False\n",
      "True\n",
      "False\n",
      "True\n",
      "False\n",
      "True\n"
     ]
    }
   ],
   "source": [
    "# 비교 연산자의 활용\n",
    "# 숫자 자료형에 대한 비교 연산자 활용\n",
    "print(10 == 5)  # 10과 5는 같다 >> 거짓\n",
    "print(10 != 5)  # 10과 5는 같지 않다 >> 참\n",
    "print(10 < 5)   # 10은 5보다 작다 >> 거짓\n",
    "print(10 > 5)   # 10은 5보다 크다 >> 참\n",
    "print(10 <= 5)  # 10은 5보다 작거나 같다 >> 거짓\n",
    "print(10 >= 5)  # 10은 5보다 크거나 같다 >> 참\n",
    "\n",
    "# 불 자료형에 대한 논리 연산자 활용\n",
    "print(True == False)    # True와 False는 같다 >> 거짓\n",
    "print(True != False)    # True와 False는 같지 않다 >> 참"
   ]
  },
  {
   "cell_type": "code",
   "execution_count": 18,
   "id": "f13394d2",
   "metadata": {},
   "outputs": [
    {
     "name": "stdout",
     "output_type": "stream",
     "text": [
      "True\n"
     ]
    }
   ],
   "source": [
    "# 비교 연산자는 논리 연산자보다 우선순위가 높다\n",
    "print(1>0 and (5>10 or 3<5))"
   ]
  },
  {
   "cell_type": "markdown",
   "id": "158f5c54",
   "metadata": {},
   "source": [
    "### 5. 리스트(list)"
   ]
  },
  {
   "cell_type": "markdown",
   "id": "19a50614",
   "metadata": {},
   "source": [
    "- 여러 자료를 한번에 처리가능\n",
    "- 순서가 있는 요소로 구성\n",
    "- 생성한 후에 요소 변경 가능"
   ]
  },
  {
   "cell_type": "code",
   "execution_count": 24,
   "id": "c7ede8f7",
   "metadata": {},
   "outputs": [
    {
     "name": "stdout",
     "output_type": "stream",
     "text": [
      "[10, 20, 30, 40]\n",
      "['programming', 'language', 'python']\n",
      "[1.5, 2.6, '문자열1', '문자열2']\n",
      "[4.0, True, 'abc', [1.5, 2.6, '문자열1', '문자열2']]\n",
      "[]\n"
     ]
    }
   ],
   "source": [
    "list_num=[10, 20, 30, 40]                           # 숫자로 리스트를 구성\n",
    "list_str=['programming', 'language', 'python']      # 문자열로 리스트를 구성\n",
    "list_mix1=[1.5, 2.6, '문자열1', '문자열2']          # 숫자와 문자열로 리스트를 구성\n",
    "list_mix2=[4.0, True, 'abc', list_mix1]             # 숫자, 불, 문자열, 리스트로 리스트를 구성\n",
    "list_empty=[]                                       # 요소가 없는 빈 리스트\n",
    "\n",
    "print(list_num)\n",
    "print(list_str)\n",
    "print(list_mix1)\n",
    "print(list_mix2)\n",
    "print(list_empty)"
   ]
  },
  {
   "cell_type": "code",
   "execution_count": 20,
   "id": "c1c3c454",
   "metadata": {},
   "outputs": [
    {
     "name": "stdout",
     "output_type": "stream",
     "text": [
      "4\n",
      "3\n",
      "4\n",
      "4\n",
      "0\n"
     ]
    }
   ],
   "source": [
    "# 리스트 길이 확인\n",
    "print(len(list_num))\n",
    "print(len(list_str))\n",
    "print(len(list_mix1))\n",
    "print(len(list_mix2))\n",
    "print(len(list_empty))"
   ]
  },
  {
   "cell_type": "code",
   "execution_count": 21,
   "id": "c6cbfe2a",
   "metadata": {},
   "outputs": [
    {
     "name": "stdout",
     "output_type": "stream",
     "text": [
      "[10, 20, 30, 40]\n",
      "10\n",
      "20\n",
      "40\n",
      "40\n",
      "30\n"
     ]
    }
   ],
   "source": [
    "# 리스트 인덱싱\n",
    "print(list_num)     # list_num 출력\n",
    "print(list_num[0])  # list_num의 첫번째 요소를 가져옴\n",
    "print(list_num[1])  # list_num의 두번째 요소를 가져옴\n",
    "print(list_num[3])  # list_num의 네번째 요소를 가져옴\n",
    "print(list_num[-1]) # list_num의 마지막 요소를 가져옴\n",
    "print(list_num[-2]) # list_num의 마지막 요소 앞의 요소를 가져옴"
   ]
  },
  {
   "cell_type": "code",
   "execution_count": 22,
   "id": "ae30f0eb",
   "metadata": {},
   "outputs": [
    {
     "name": "stdout",
     "output_type": "stream",
     "text": [
      "[4.0, True, 'abc', [1.5, 2.6, '문자열1', '문자열2']]\n",
      "[1.5, 2.6, '문자열1', '문자열2']\n",
      "문자열1\n"
     ]
    }
   ],
   "source": [
    "# 리스트의 요소가 리스트일 때\n",
    "print(list_mix2)        # list_mix2 출력\n",
    "print(list_mix2[3])     # list_mix2의 네번쨰 요소를 가져옴\n",
    "print(list_mix2[3][2])  # list_mix2의 네번째 요소(리스트)에서 세번째 요소를 가져옴"
   ]
  },
  {
   "cell_type": "code",
   "execution_count": 25,
   "id": "968ec3d9",
   "metadata": {},
   "outputs": [
    {
     "name": "stdout",
     "output_type": "stream",
     "text": [
      "[100, 200, 300, 400, 500]\n",
      "[100, 500, 300, 400, 500]\n"
     ]
    }
   ],
   "source": [
    "# 리스트 요소 변경\n",
    "list_num1=[100, 200, 300, 400, 500]     # 리스트 생성\n",
    "print(list_num1)\n",
    "\n",
    "list_num1[1]=500     # 두번째 요소에 새로운 데이터를 할당\n",
    "print(list_num1)"
   ]
  },
  {
   "cell_type": "code",
   "execution_count": 26,
   "id": "f89f95e9",
   "metadata": {},
   "outputs": [
    {
     "name": "stdout",
     "output_type": "stream",
     "text": [
      "[0, 10, 20, 30, 40, 50]\n",
      "[0, 10, 30, 40, 50]\n"
     ]
    }
   ],
   "source": [
    "# 리스트 특정 요소 제거\n",
    "list_num2=[0, 10, 20, 30, 40, 50]   # 숫자로 리스트를 구성\n",
    "print(list_num2)\n",
    "\n",
    "del list_num2[2]    # 리스트에서 인덱스가 2인 요소를 제거\n",
    "print(list_num2)"
   ]
  },
  {
   "cell_type": "code",
   "execution_count": 27,
   "id": "60905c9e",
   "metadata": {},
   "outputs": [
    {
     "name": "stdout",
     "output_type": "stream",
     "text": [
      "ABCDEFG\n",
      "A\n",
      "B\n",
      "G\n",
      "F\n"
     ]
    }
   ],
   "source": [
    "# 문자열의 인덱싱\n",
    "str1=\"ABCDEFG\"\n",
    "print(str1)\n",
    "print(str1[0])\n",
    "print(str1[1])\n",
    "print(str1[-1])\n",
    "print(str1[-2])"
   ]
  },
  {
   "cell_type": "code",
   "execution_count": 28,
   "id": "c430a7a4",
   "metadata": {},
   "outputs": [
    {
     "name": "stdout",
     "output_type": "stream",
     "text": [
      "[0, 10, 20, 30, 40, 50, 60, 70, 80, 90]\n",
      "[0, 10, 20, 30]\n",
      "[50, 60, 70, 80, 90]\n",
      "[0, 10, 20, 30]\n",
      "[50, 60, 70, 80, 90]\n",
      "[0, 10, 20, 30, 40, 50, 60, 70, 80, 90]\n"
     ]
    }
   ],
   "source": [
    "# 리스트 슬라이싱\n",
    "list_num3=[0, 10, 20, 30, 40, 50, 60, 70, 80, 90]   # 리스트 생성\n",
    "print(list_num3)        # 리스트 출력\n",
    "print(list_num3[0:4])   # 인덱스 범위: 0 ~ 3\n",
    "print(list_num3[5:10])  # 인덱스 범위: 5 ~ 9\n",
    "print(list_num3[:4])    # 인덱스 범위: 0 ~ 3 (시작을 생략)\n",
    "print(list_num3[5:])    # 인덱스 범위: 5 ~ 끝 (끝을 생략)\n",
    "print(list_num3[:])     # 인덱스 범위: 모든 인덱스 (시작과 끝 둘 다 생략)"
   ]
  },
  {
   "cell_type": "code",
   "execution_count": 29,
   "id": "2fd0238b",
   "metadata": {},
   "outputs": [
    {
     "name": "stdout",
     "output_type": "stream",
     "text": [
      "가나다라마바사ABCDEFG1234567\n",
      "가나다라마바사\n",
      "가나다라마바사\n",
      "ABCDEFG\n",
      "1234567\n"
     ]
    }
   ],
   "source": [
    "# 문자열 슬라이싱\n",
    "str2=\"가나다라마바사ABCDEFG1234567\"\n",
    "print(str2)\n",
    "print(str2[0:7])\n",
    "print(str2[:7])\n",
    "print(str2[7:14])\n",
    "print(str2[14:])"
   ]
  },
  {
   "cell_type": "code",
   "execution_count": 31,
   "id": "ac8d99fe",
   "metadata": {},
   "outputs": [
    {
     "name": "stdout",
     "output_type": "stream",
     "text": [
      "['토마스']\n",
      "['토마스', '고든']\n",
      "['토마스', '고든', '에드워드']\n"
     ]
    }
   ],
   "source": [
    "friends=['토마스']          # 리스트를 생성\n",
    "print(friends)\n",
    "\n",
    "friends.append('고든')      # 리스트의 끝에 요소 추가\n",
    "print(friends)\n",
    "\n",
    "friends.append('에드워드')  # 리스트의 끝에 요소 추가\n",
    "print(friends)    "
   ]
  },
  {
   "cell_type": "markdown",
   "id": "a5e933b6",
   "metadata": {},
   "source": [
    "### 6. 튜플"
   ]
  },
  {
   "cell_type": "markdown",
   "id": "e6fe6541",
   "metadata": {},
   "source": [
    "- 여러 개의 자료를 하나로 묶어서 처리하는 자료형\n",
    "- 한번 생성하고 나면 변경 불가"
   ]
  },
  {
   "cell_type": "code",
   "execution_count": null,
   "id": "608d5be0",
   "metadata": {},
   "outputs": [
    {
     "name": "stdout",
     "output_type": "stream",
     "text": [
      "(0, 1, 2, 3, 4)\n",
      "(5, 6, 7, 8, 9)\n"
     ]
    }
   ],
   "source": [
    "# 튜플 생성\n",
    "tuple_num1=(0, 1, 2, 3, 4,)\n",
    "tuple_num2=5, 6, 7, 8, 9\n",
    "\n",
    "print(tuple_num1)\n",
    "print(tuple_num2)"
   ]
  },
  {
   "cell_type": "code",
   "execution_count": 33,
   "id": "82e4de4b",
   "metadata": {},
   "outputs": [
    {
     "name": "stdout",
     "output_type": "stream",
     "text": [
      "(10,)\n",
      "('데이터1',)\n"
     ]
    }
   ],
   "source": [
    "# 요소를 하나만 갖는 튜플\n",
    "tuple_num3=(10, )\n",
    "tuple_num4= \"데이터1\",\n",
    "\n",
    "print(tuple_num3)\n",
    "print(tuple_num4)"
   ]
  },
  {
   "cell_type": "code",
   "execution_count": 34,
   "id": "35f90caa",
   "metadata": {},
   "outputs": [
    {
     "name": "stdout",
     "output_type": "stream",
     "text": [
      "programming\n",
      "('programming', 'language', 'python', 1)\n"
     ]
    }
   ],
   "source": [
    "# 튜플 다루기\n",
    "tuple_mixed1=('programming', 'language', 'python', 1, 2, 3)\n",
    "print(tuple_mixed1[0])      # 튜플 인덱싱\n",
    "print(tuple_mixed1[0:4])    # 튜플 슬라이싱"
   ]
  },
  {
   "cell_type": "markdown",
   "id": "489b7b8d",
   "metadata": {},
   "source": [
    "### 7. 세트"
   ]
  },
  {
   "cell_type": "markdown",
   "id": "fcf0fea9",
   "metadata": {},
   "source": [
    "- 수학의 집합 개념을 나타내는 자료형\n",
    "- 요소의 순서가 없음 >> 인덱싱이나 슬라이싱 불가\n",
    "- 같은 요소끼리 중복되지 않음"
   ]
  },
  {
   "cell_type": "code",
   "execution_count": null,
   "id": "1ba11c3f",
   "metadata": {},
   "outputs": [
    {
     "name": "stdout",
     "output_type": "stream",
     "text": [
      "{2, 3, 100, 5, 4, 10}\n",
      "{'배', '귤', '오렌지', '사과'}\n"
     ]
    }
   ],
   "source": [
    "set_num={10, 100, 2, 3, 4, 4, 5}\n",
    "set_str={\"사과\", \"배\", \"오렌지\", \"귤\", \"귤\"}\n",
    "\n",
    "print(set_num)\n",
    "print(set_str)"
   ]
  },
  {
   "cell_type": "code",
   "execution_count": 36,
   "id": "c0569c68",
   "metadata": {},
   "outputs": [
    {
     "name": "stdout",
     "output_type": "stream",
     "text": [
      "{3, 4}\n",
      "{0, 1, 2, 3, 4, 5, 6, 7}\n",
      "{0, 1, 2}\n",
      "{3, 4}\n",
      "{0, 1, 2, 3, 4, 5, 6, 7}\n",
      "{0, 1, 2}\n"
     ]
    }
   ],
   "source": [
    "# 세트의 교집합, 합집합, 차집합\n",
    "set_A={0, 1, 2, 3, 4}\n",
    "set_B={3, 4, 5, 6, 7}\n",
    "\n",
    "# 연산자 사용\n",
    "print(set_A & set_B)        # 교집합\n",
    "print(set_A | set_B)        # 합집합\n",
    "print(set_A - set_B)        # 차집합\n",
    "\n",
    "# 메서드 사용\n",
    "print(set_A.intersection(set_B))    # 교집합\n",
    "print(set_A.union(set_B))           # 합집합\n",
    "print(set_A.difference(set_B))      # 차집합"
   ]
  },
  {
   "cell_type": "markdown",
   "id": "5780e11b",
   "metadata": {},
   "source": [
    "### 8. 딕셔너리"
   ]
  },
  {
   "cell_type": "markdown",
   "id": "6d036ab8",
   "metadata": {},
   "source": [
    "- 키와 값의 쌍으로 구성된 자료의 묶음\n",
    "- 인덱스 대신 키를 이용해 값에 접근가능"
   ]
  },
  {
   "cell_type": "code",
   "execution_count": 37,
   "id": "5754cb47",
   "metadata": {},
   "outputs": [
    {
     "name": "stdout",
     "output_type": "stream",
     "text": [
      "{1: '사과', 2: '배', 3: '복숭아', 4: '딸기'}\n",
      "{1: 1234, 5: 5678, 7: 7890}\n",
      "{True: '맞습니다', False: '아닙니다'}\n",
      "{'ID_101': ['민준', 24], 'ID_102': ['서연', 27]}\n"
     ]
    }
   ],
   "source": [
    "dict_ex1={1: '사과', 2: '배', 3: '복숭아', 4: '딸기'}\n",
    "dict_ex2={1: 1234, 5: 5678, 7: 7890}\n",
    "dict_ex3={True: '맞습니다', False: '아닙니다'}\n",
    "dict_ex4={'ID_101': ['민준', 24], 'ID_102': ['서연', 27]}\n",
    "\n",
    "print(dict_ex1)\n",
    "print(dict_ex2)\n",
    "print(dict_ex3)\n",
    "print(dict_ex4)"
   ]
  },
  {
   "cell_type": "code",
   "execution_count": 38,
   "id": "b67e2ad1",
   "metadata": {},
   "outputs": [
    {
     "name": "stdout",
     "output_type": "stream",
     "text": [
      "사과\n",
      "7890\n",
      "맞습니다\n",
      "['서연', 27]\n"
     ]
    }
   ],
   "source": [
    "# 딕셔너리에 키를 입력해 값을 선택\n",
    "print(dict_ex1[1])\n",
    "print(dict_ex2[7])\n",
    "print(dict_ex3[True])\n",
    "print(dict_ex4['ID_102'])"
   ]
  },
  {
   "cell_type": "code",
   "execution_count": 39,
   "id": "c21e2efe",
   "metadata": {},
   "outputs": [
    {
     "name": "stdout",
     "output_type": "stream",
     "text": [
      "{'이름': '박재민', '나이': 24}\n",
      "{'이름': '박재민', '나이': 25}\n",
      "{'이름': '박재민', '나이': 25, '취미': ['게임', '농구']}\n"
     ]
    }
   ],
   "source": [
    "dict_user={\"이름\": \"박재민\", \"나이\": 24}\n",
    "print(dict_user)\n",
    "\n",
    "# 기존 키와 값의 쌍에서 값을 변경\n",
    "dict_user[\"나이\"]=25\n",
    "print(dict_user)\n",
    "\n",
    "# 새로운 키와 값의 쌍 추가\n",
    "dict_user[\"취미\"]=[\"게임\", \"농구\"]\n",
    "print(dict_user) "
   ]
  },
  {
   "cell_type": "code",
   "execution_count": 40,
   "id": "80911a5b",
   "metadata": {},
   "outputs": [
    {
     "name": "stdout",
     "output_type": "stream",
     "text": [
      "{'이름': '조수빈', '나이': 28, '취미': ['독서', '영화']}\n",
      "{'이름': '조수빈', '나이': 28}\n"
     ]
    }
   ],
   "source": [
    "# 특정 키와 값의 쌍 삭제\n",
    "dict_user2={'이름': '조수빈', '나이': 28, '취미': ['독서', '영화']}\n",
    "print(dict_user2)\n",
    "\n",
    "del dict_user2['취미']\n",
    "print(dict_user2)"
   ]
  },
  {
   "cell_type": "code",
   "execution_count": 41,
   "id": "72f7ce99",
   "metadata": {},
   "outputs": [
    {
     "name": "stdout",
     "output_type": "stream",
     "text": [
      "{0: 'a', 1: 'b', 2: 'c', 3: 'd', 4: 'e'}\n",
      "dict_keys([0, 1, 2, 3, 4])\n",
      "dict_values(['a', 'b', 'c', 'd', 'e'])\n",
      "dict_items([(0, 'a'), (1, 'b'), (2, 'c'), (3, 'd'), (4, 'e')])\n"
     ]
    }
   ],
   "source": [
    "# 메서드 활용\n",
    "dict_num_alpha={0: 'a', 1: 'b', 2: 'c', 3: 'd', 4: 'e'}\n",
    "print(dict_num_alpha)\n",
    "print(dict_num_alpha.keys())\n",
    "print(dict_num_alpha.values())\n",
    "print(dict_num_alpha.items())"
   ]
  },
  {
   "cell_type": "code",
   "execution_count": null,
   "id": "e0dd04c1",
   "metadata": {},
   "outputs": [
    {
     "name": "stdout",
     "output_type": "stream",
     "text": [
      "[0, 1, 2, 3, 4]\n",
      "['a', 'b', 'c', 'd', 'e']\n",
      "[(0, 'a'), (1, 'b'), (2, 'c'), (3, 'd'), (4, 'e')]\n"
     ]
    }
   ],
   "source": [
    "# 리스트로 변환\n",
    "print(list(dict_num_alpha.keys()))\n",
    "print(list(dict_num_alpha.values()))\n",
    "print(list(dict_num_alpha.items()))"
   ]
  },
  {
   "cell_type": "code",
   "execution_count": 43,
   "id": "855d92ad",
   "metadata": {},
   "outputs": [
    {
     "name": "stdout",
     "output_type": "stream",
     "text": [
      "{0: 'a', 1: 'b', 2: 'c', 3: 'd', 4: 'e'}\n",
      "{0: 'a', 1: 'b', 2: 'c', 3: 'd', 4: 'e', 5: 'f', 6: 'g'}\n"
     ]
    }
   ],
   "source": [
    "# 새로운 키와 값의 쌍 추가\n",
    "print(dict_num_alpha)\n",
    "\n",
    "dict_new={5: 'f', 6: 'g'}\n",
    "dict_num_alpha.update(dict_new)\n",
    "print(dict_num_alpha)"
   ]
  },
  {
   "cell_type": "code",
   "execution_count": null,
   "id": "95171475",
   "metadata": {},
   "outputs": [
    {
     "name": "stdout",
     "output_type": "stream",
     "text": [
      "b\n",
      "None\n"
     ]
    }
   ],
   "source": [
    "# 키를 이용해 값을 반환\n",
    "print(dict_num_alpha.get(1))\n",
    "print(dict_num_alpha.get(7))    # 입력값이 딕셔너리 키에 없으면 None 반환"
   ]
  },
  {
   "cell_type": "code",
   "execution_count": 45,
   "id": "246a867e",
   "metadata": {},
   "outputs": [
    {
     "name": "stdout",
     "output_type": "stream",
     "text": [
      "{0: 'zero', 1: 'one', 2: 'two', 3: 'three'}\n",
      "{}\n"
     ]
    }
   ],
   "source": [
    "# 모든 키와 값의 쌍을 삭제\n",
    "dict_num_eng={0: 'zero', 1: 'one', 2: 'two', 3: 'three'}\n",
    "print(dict_num_eng)\n",
    "\n",
    "dict_num_eng.clear()\n",
    "print(dict_num_eng)"
   ]
  }
 ],
 "metadata": {
  "kernelspec": {
   "display_name": "Python 3",
   "language": "python",
   "name": "python3"
  },
  "language_info": {
   "codemirror_mode": {
    "name": "ipython",
    "version": 3
   },
   "file_extension": ".py",
   "mimetype": "text/x-python",
   "name": "python",
   "nbconvert_exporter": "python",
   "pygments_lexer": "ipython3",
   "version": "3.10.6"
  }
 },
 "nbformat": 4,
 "nbformat_minor": 5
}
