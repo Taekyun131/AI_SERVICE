{
 "cells": [
  {
   "cell_type": "markdown",
   "id": "187b2add",
   "metadata": {},
   "source": [
    "## 데이터의 출력"
   ]
  },
  {
   "cell_type": "code",
   "execution_count": 1,
   "id": "343f7568",
   "metadata": {},
   "outputs": [
    {
     "name": "stdout",
     "output_type": "stream",
     "text": [
      "1 2 3 4 5\n",
      "a b c d e\n",
      "123 abc True\n",
      "['abc', 123, 'def'] {'a': 1, 'b': 2}\n"
     ]
    }
   ],
   "source": [
    "print(1, 2, 3, 4, 5)                # 숫자 출력\n",
    "print('a', 'b', 'c', 'd', 'e')      # 문자 출력\n",
    "print(123, \"abc\", True)             # 숫자, 문자, 불 출력\n",
    "print(['abc', 123, 'def'], {\"a\": 1, \"b\": 2})    # 리스트와 딕셔너리 출력"
   ]
  },
  {
   "cell_type": "code",
   "execution_count": null,
   "id": "b184238d",
   "metadata": {},
   "outputs": [
    {
     "name": "stdout",
     "output_type": "stream",
     "text": [
      "합계:\n",
      "90\n",
      "합계:90\n"
     ]
    }
   ],
   "source": [
    "print(\"합계:\")          # end 옵션이 없으면 개행문자가 들어가서 줄 바꿈 수행\n",
    "print(90)\n",
    "print(\"합계:\", end='')  # end 옵션에 빈 문자열을 입력해 줄 바꿈 없이 출력\n",
    "print(90)\n"
   ]
  },
  {
   "cell_type": "code",
   "execution_count": null,
   "id": "c1523f89",
   "metadata": {},
   "outputs": [
    {
     "name": "stdout",
     "output_type": "stream",
     "text": [
      "나는 파이썬을 이용해 \n",
      "많은 업무를 \n",
      "자동화합니다.\n"
     ]
    }
   ],
   "source": [
    "# 개행문자 사용\n",
    "print(\"나는 파이썬을 이용해 \\n많은 업무를 \\n자동화합니다.\")"
   ]
  },
  {
   "cell_type": "code",
   "execution_count": 4,
   "id": "7bb2b2a0",
   "metadata": {},
   "outputs": [
    {
     "name": "stdout",
     "output_type": "stream",
     "text": [
      "문자열 출력: Banana, Apple, Orange\n",
      "문자열 출력: Orange, Banana, Apple\n"
     ]
    }
   ],
   "source": [
    "# 형식 지정 출력\n",
    "fruit_0=\"Banana\"\n",
    "fruit_1=\"Apple\"\n",
    "fruit_2=\"Orange\"\n",
    "\n",
    "print(\"문자열 출력: {0}, {1}, {2}\".format(fruit_0, fruit_1, fruit_2))\n",
    "print(\"문자열 출력: {2}, {0}, {1}\".format(fruit_0, fruit_1, fruit_2))"
   ]
  },
  {
   "cell_type": "code",
   "execution_count": 5,
   "id": "0707f1ba",
   "metadata": {},
   "outputs": [
    {
     "name": "stdout",
     "output_type": "stream",
     "text": [
      "문자열 출력: Banana, Apple, Orange\n"
     ]
    }
   ],
   "source": [
    "print(\"문자열 출력: {}, {}, {}\".format(fruit_0, fruit_1, fruit_2))"
   ]
  },
  {
   "cell_type": "code",
   "execution_count": 6,
   "id": "cd86a7ff",
   "metadata": {},
   "outputs": [
    {
     "name": "stdout",
     "output_type": "stream",
     "text": [
      "숫자 출력: 123, 3.141592653589793\n"
     ]
    }
   ],
   "source": [
    "num_int=123\n",
    "num_float=3.14159265358979323846\n",
    "print(\"숫자 출력: {0}, {1}\".format(num_int, num_float))"
   ]
  },
  {
   "cell_type": "code",
   "execution_count": 7,
   "id": "7ae42dc4",
   "metadata": {},
   "outputs": [
    {
     "name": "stdout",
     "output_type": "stream",
     "text": [
      "이름: 최서희, 전화번호: 010-xyz-1234\n"
     ]
    }
   ],
   "source": [
    "name=\"최서희\"\n",
    "phone_number=\"010-xyz-1234\"\n",
    "\n",
    "print(f\"이름: {name}, 전화번호: {phone_number}\")"
   ]
  }
 ],
 "metadata": {
  "kernelspec": {
   "display_name": "Python 3",
   "language": "python",
   "name": "python3"
  },
  "language_info": {
   "codemirror_mode": {
    "name": "ipython",
    "version": 3
   },
   "file_extension": ".py",
   "mimetype": "text/x-python",
   "name": "python",
   "nbconvert_exporter": "python",
   "pygments_lexer": "ipython3",
   "version": "3.10.6"
  }
 },
 "nbformat": 4,
 "nbformat_minor": 5
}
