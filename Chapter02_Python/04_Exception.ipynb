{
 "cells": [
  {
   "cell_type": "markdown",
   "id": "45998dbd",
   "metadata": {},
   "source": [
    "## 예외처리"
   ]
  },
  {
   "cell_type": "code",
   "execution_count": 2,
   "id": "77fc5ff8",
   "metadata": {},
   "outputs": [
    {
     "ename": "ZeroDivisionError",
     "evalue": "division by zero",
     "output_type": "error",
     "traceback": [
      "\u001b[1;31m---------------------------------------------------------------------------\u001b[0m",
      "\u001b[1;31mZeroDivisionError\u001b[0m                         Traceback (most recent call last)",
      "Cell \u001b[1;32mIn[2], line 1\u001b[0m\n\u001b[1;32m----> 1\u001b[0m \u001b[38;5;241;43m10\u001b[39;49m\u001b[38;5;241;43m/\u001b[39;49m\u001b[38;5;241;43m0\u001b[39;49m\n",
      "\u001b[1;31mZeroDivisionError\u001b[0m: division by zero"
     ]
    }
   ],
   "source": [
    "10/0"
   ]
  },
  {
   "cell_type": "code",
   "execution_count": 1,
   "id": "c0f93fe0",
   "metadata": {},
   "outputs": [
    {
     "name": "stdout",
     "output_type": "stream",
     "text": [
      "실행 중 오류가 발생했습니다\n"
     ]
    }
   ],
   "source": [
    "# try~except 사용\n",
    "try:\n",
    "    10/0\n",
    "except:\n",
    "    print(\"실행 중 오류가 발생했습니다\")"
   ]
  },
  {
   "cell_type": "code",
   "execution_count": null,
   "id": "227cd2cf",
   "metadata": {},
   "outputs": [
    {
     "name": "stdout",
     "output_type": "stream",
     "text": [
      "실행 중 숫자를 0으로 나누었습니다\n"
     ]
    }
   ],
   "source": [
    "# 해당 오류 종류에 대해 예외처리\n",
    "try:\n",
    "    10/0\n",
    "except ZeroDivisionError:\n",
    "    print(\"실행 중 숫자를 0으로 나누었습니다\")\n",
    "    "
   ]
  },
  {
   "cell_type": "code",
   "execution_count": 5,
   "id": "054487e0",
   "metadata": {},
   "outputs": [
    {
     "name": "stdout",
     "output_type": "stream",
     "text": [
      "k=1\n",
      "k=2\n",
      "k=3.일부러 오류 발생\n",
      "실행 중 오류가 발생했습니다.\n"
     ]
    }
   ],
   "source": [
    "# raise를 사용해 일부러 예외 발생\n",
    "try:\n",
    "    for k in [1, 2, 3]:\n",
    "        if(k==3):\n",
    "            print(\"k={0}.일부러 오류 발생\".format(k))\n",
    "            raise\n",
    "        else:\n",
    "            print(\"k={0}\".format(k))\n",
    "except:\n",
    "    print(\"실행 중 오류가 발생했습니다.\")"
   ]
  },
  {
   "cell_type": "code",
   "execution_count": 6,
   "id": "af4c3fed",
   "metadata": {},
   "outputs": [
    {
     "name": "stdout",
     "output_type": "stream",
     "text": [
      "오류가 발생했습니다\n",
      "tuple_num=(1, 2, 3)\n"
     ]
    }
   ],
   "source": [
    "# try~except~finally 사용\n",
    "tuple_num=(1, 2, 3)\n",
    "\n",
    "try:\n",
    "    typle_num[0]=4  # 튜플의 요소를 변경할 수 없어 오류 발생\n",
    "except:\n",
    "    print(\"오류가 발생했습니다\")\n",
    "finally:\n",
    "    print(\"tuple_num={0}\".format(tuple_num))"
   ]
  }
 ],
 "metadata": {
  "kernelspec": {
   "display_name": "Python 3",
   "language": "python",
   "name": "python3"
  },
  "language_info": {
   "codemirror_mode": {
    "name": "ipython",
    "version": 3
   },
   "file_extension": ".py",
   "mimetype": "text/x-python",
   "name": "python",
   "nbconvert_exporter": "python",
   "pygments_lexer": "ipython3",
   "version": "3.10.6"
  }
 },
 "nbformat": 4,
 "nbformat_minor": 5
}
