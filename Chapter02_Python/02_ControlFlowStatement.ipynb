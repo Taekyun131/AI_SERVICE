{
 "cells": [
  {
   "cell_type": "markdown",
   "id": "c720a6c3",
   "metadata": {},
   "source": [
    "## 제어문"
   ]
  },
  {
   "cell_type": "markdown",
   "id": "d58ef6e8",
   "metadata": {},
   "source": [
    "### 1. 조건문"
   ]
  },
  {
   "cell_type": "code",
   "execution_count": 1,
   "id": "7f3cebe8",
   "metadata": {},
   "outputs": [
    {
     "name": "stdout",
     "output_type": "stream",
     "text": [
      "합격\n"
     ]
    }
   ],
   "source": [
    "x=95\n",
    "\n",
    "if x>90:            # 조건\n",
    "    print(\"합격\")   # 조건이 참이면 수행"
   ]
  },
  {
   "cell_type": "code",
   "execution_count": null,
   "id": "4d23768e",
   "metadata": {},
   "outputs": [
    {
     "name": "stdout",
     "output_type": "stream",
     "text": [
      "죄송합니다\n",
      "당신은 불합격입니다\n"
     ]
    }
   ],
   "source": [
    "x=85\n",
    "\n",
    "if x>90:\n",
    "    print(\"축하합니다\")\n",
    "    print(\"당신은 합격입니다\")\n",
    "else:   # 조건이 참이 아니면 수행\n",
    "    print(\"죄송합니다\")\n",
    "    print(\"당신은 불합격입니다\")"
   ]
  },
  {
   "cell_type": "markdown",
   "id": "49c51fec",
   "metadata": {},
   "source": [
    "### 2. 반복문"
   ]
  },
  {
   "cell_type": "code",
   "execution_count": 3,
   "id": "da59ecbb",
   "metadata": {},
   "outputs": [
    {
     "name": "stdout",
     "output_type": "stream",
     "text": [
      "0\n",
      "1\n",
      "2\n",
      "3\n",
      "4\n",
      "5\n"
     ]
    }
   ],
   "source": [
    "# for 반복문\n",
    "for num in [0, 1, 2, 3, 4, 5]:\n",
    "    print(num)"
   ]
  },
  {
   "cell_type": "code",
   "execution_count": 4,
   "id": "4cd5e6c7",
   "metadata": {},
   "outputs": [
    {
     "name": "stdout",
     "output_type": "stream",
     "text": [
      "0\n",
      "1\n",
      "2\n",
      "3\n",
      "4\n",
      "5\n"
     ]
    }
   ],
   "source": [
    "# range 사용\n",
    "for num in range(6):\n",
    "    print(num)"
   ]
  },
  {
   "cell_type": "code",
   "execution_count": 5,
   "id": "84009cbc",
   "metadata": {},
   "outputs": [
    {
     "data": {
      "text/plain": [
       "[4, 3, 2, 1, 0]"
      ]
     },
     "execution_count": 5,
     "metadata": {},
     "output_type": "execute_result"
    }
   ],
   "source": [
    "numbers=[10, 11, 12, 13, 14]\n",
    "list(range(len(numbers)-1, -1, -1))"
   ]
  },
  {
   "cell_type": "code",
   "execution_count": 6,
   "id": "416de84e",
   "metadata": {},
   "outputs": [
    {
     "name": "stdout",
     "output_type": "stream",
     "text": [
      "4 14\n",
      "3 13\n",
      "2 12\n",
      "1 11\n",
      "0 10\n"
     ]
    }
   ],
   "source": [
    "for k in range(len(numbers)-1, -1, -1):\n",
    "    print(k, numbers[k])"
   ]
  },
  {
   "cell_type": "code",
   "execution_count": null,
   "id": "07fbfa39",
   "metadata": {},
   "outputs": [
    {
     "name": "stdout",
     "output_type": "stream",
     "text": [
      "0 10\n",
      "1 20\n",
      "2 30\n",
      "3 40\n"
     ]
    }
   ],
   "source": [
    "# enumerate 사용 -  리스트 각 요소의 인덱스와 값을 출력\n",
    "list_num=[10, 20, 30, 40]\n",
    "for index, value in enumerate(list_num):\n",
    "    print(index, value)"
   ]
  },
  {
   "cell_type": "code",
   "execution_count": 8,
   "id": "79e978ee",
   "metadata": {},
   "outputs": [
    {
     "name": "stdout",
     "output_type": "stream",
     "text": [
      "남온조 96\n",
      "이청산 85\n",
      "최남라 100\n",
      "이수혁 70\n",
      "이나연 80\n",
      "양대수 75\n"
     ]
    }
   ],
   "source": [
    "names=[\"남온조\", \"이청산\", \"최남라\", \"이수혁\", \"이나연\", \"양대수\"]\n",
    "scores=[96, 85, 100, 70, 80, 75]\n",
    "\n",
    "for k in range(len(names)):\n",
    "    print(names[k], scores[k])"
   ]
  },
  {
   "cell_type": "code",
   "execution_count": 9,
   "id": "6141a8ab",
   "metadata": {},
   "outputs": [
    {
     "name": "stdout",
     "output_type": "stream",
     "text": [
      "남온조 96\n",
      "이청산 85\n",
      "최남라 100\n",
      "이수혁 70\n",
      "이나연 80\n",
      "양대수 75\n"
     ]
    }
   ],
   "source": [
    "# zip 사용 - 리스트의 요소를 하나씩 출력\n",
    "for name, score in zip(names, scores):\n",
    "    print(name, score)"
   ]
  },
  {
   "cell_type": "code",
   "execution_count": 10,
   "id": "25c1f7b1",
   "metadata": {},
   "outputs": [
    {
     "name": "stdout",
     "output_type": "stream",
     "text": [
      "[0, 1, 2, 3, 4, 5, 6, 7, 8, 9]\n"
     ]
    }
   ],
   "source": [
    "# while 반복문\n",
    "list_num=[]\n",
    "count=0\n",
    "\n",
    "while(count<10):\n",
    "    list_num.append(count)\n",
    "    count=count+1\n",
    "\n",
    "print(list_num)"
   ]
  }
 ],
 "metadata": {
  "kernelspec": {
   "display_name": "Python 3",
   "language": "python",
   "name": "python3"
  },
  "language_info": {
   "codemirror_mode": {
    "name": "ipython",
    "version": 3
   },
   "file_extension": ".py",
   "mimetype": "text/x-python",
   "name": "python",
   "nbconvert_exporter": "python",
   "pygments_lexer": "ipython3",
   "version": "3.10.6"
  }
 },
 "nbformat": 4,
 "nbformat_minor": 5
}
