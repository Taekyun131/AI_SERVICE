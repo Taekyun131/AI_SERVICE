{
 "cells": [
  {
   "cell_type": "markdown",
   "id": "f981c550",
   "metadata": {},
   "source": [
    "## 웹 API의 이해"
   ]
  },
  {
   "cell_type": "markdown",
   "id": "d37241b9",
   "metadata": {},
   "source": [
    "### 1. 웹 데이터의 요청과 응답 과정"
   ]
  },
  {
   "cell_type": "markdown",
   "id": "bbf00780",
   "metadata": {},
   "source": [
    "통신과정\n",
    "1. 컴퓨터에서 웹 브라우저를 사용하여 인터넷을 통해 웹 서버에 HTTP 형식으로 원하는 정보를 요청\n",
    "2. 웹 서버는 해당 요청을 받아들여 HTTP 형식으로 응답해 HTML 파일을 전송\n",
    "3. 응답받은 HTML 파일을 컴퓨터의 웹 브라우저가 해석해 알아보기 쉬운 형태로 변환"
   ]
  },
  {
   "cell_type": "markdown",
   "id": "bd66548f",
   "metadata": {},
   "source": [
    "HTTP 요청을 위한 메서드\n",
    "- GET: 서버에 있는 자원을 조회하기 위한 요청\n",
    "- POST: 서버에 새로운 자원을 생성하기 위한 요청\n",
    "- PUT: 서버에 있는 자원을 수정하기 위한 요청\n",
    "- DELETE: 서버에 있는 자원을 삭제하기 위한 요청"
   ]
  },
  {
   "cell_type": "markdown",
   "id": "a6848752",
   "metadata": {},
   "source": [
    "### 2. 웹 페이지 언어(HTML) 구조"
   ]
  },
  {
   "cell_type": "markdown",
   "id": "5e0ea334",
   "metadata": {},
   "source": [
    "<!doctype html>\n",
    "<html>\n",
    "    <head>\n",
    "        <title>이것은 HTML 예제</head>\n",
    "    </head>\n",
    "    <body>\n",
    "        <h1>출간된 책 정보</h1>\n",
    "        <p id=\"book_title\">초거대 인공지능의 이해</p>\n",
    "        <p id=\"author\">홍길동</p>\n",
    "        <p id=\"publisher\">위키북스 출판사</p>\n",
    "        <p id=\"year\">2023</p>\n",
    "    </body>\n",
    "</html>"
   ]
  },
  {
   "cell_type": "markdown",
   "id": "5f537e08",
   "metadata": {},
   "source": [
    "### 3. 웹 API의 데이터 획득 과정"
   ]
  },
  {
   "cell_type": "markdown",
   "id": "c74354f1",
   "metadata": {},
   "source": [
    "- REST API: 일반적인 방법, 데이터를 요청하고 응답한 후에는 연결이 끊어짐\n",
    "- Streaming API: 향후 발생할 이벤트에 대해 등록해 놓고 그 이벤트가 발생하면 데이터를 갱신한 후 응답"
   ]
  },
  {
   "cell_type": "markdown",
   "id": "e9c890cf",
   "metadata": {},
   "source": [
    "### 4. 웹 API의 인증방식"
   ]
  },
  {
   "cell_type": "markdown",
   "id": "45ccd0be",
   "metadata": {},
   "source": [
    "OAuth: 외부 애플리케이션의 보안 인증을 허용하는 개방형 규약"
   ]
  },
  {
   "cell_type": "markdown",
   "id": "adce3410",
   "metadata": {},
   "source": [
    "### 5. 응답 데이터의 형식 및 처리"
   ]
  },
  {
   "cell_type": "markdown",
   "id": "29bd3ebb",
   "metadata": {},
   "source": [
    "JSON: 중괄호로 감싸진 '이름-값' 쌍으로 구성\n"
   ]
  },
  {
   "cell_type": "markdown",
   "id": "5de70336",
   "metadata": {},
   "source": [
    "JSON 데이터 변환 및 데이터 추출"
   ]
  },
  {
   "cell_type": "code",
   "execution_count": 2,
   "id": "aeec62a5",
   "metadata": {},
   "outputs": [
    {
     "data": {
      "text/plain": [
       "dict"
      ]
     },
     "execution_count": 2,
     "metadata": {},
     "output_type": "execute_result"
    }
   ],
   "source": [
    "import json\n",
    "\n",
    "python_dict={\n",
    "    \"이름\": \"홍길동\",\n",
    "    \"나이\": 25,\n",
    "    \"거주지\": \"서울\",\n",
    "    \"신체정보\": {\n",
    "        \"키\": 175.4,\n",
    "        \"몸무게\": 71.2\n",
    "    },\n",
    "    \"취미\": [\n",
    "        \"등산\",\n",
    "        \"자전거 타기\",\n",
    "        \"독서\"\n",
    "    ]\n",
    "}\n",
    "type(python_dict)"
   ]
  },
  {
   "cell_type": "code",
   "execution_count": 3,
   "id": "b12f2ddb",
   "metadata": {},
   "outputs": [
    {
     "data": {
      "text/plain": [
       "str"
      ]
     },
     "execution_count": 3,
     "metadata": {},
     "output_type": "execute_result"
    }
   ],
   "source": [
    "json_data=json.dumps(python_dict)\n",
    "type(json_data)"
   ]
  },
  {
   "cell_type": "code",
   "execution_count": 4,
   "id": "315e38ec",
   "metadata": {},
   "outputs": [
    {
     "name": "stdout",
     "output_type": "stream",
     "text": [
      "{\"\\uc774\\ub984\": \"\\ud64d\\uae38\\ub3d9\", \"\\ub098\\uc774\": 25, \"\\uac70\\uc8fc\\uc9c0\": \"\\uc11c\\uc6b8\", \"\\uc2e0\\uccb4\\uc815\\ubcf4\": {\"\\ud0a4\": 175.4, \"\\ubab8\\ubb34\\uac8c\": 71.2}, \"\\ucde8\\ubbf8\": [\"\\ub4f1\\uc0b0\", \"\\uc790\\uc804\\uac70 \\ud0c0\\uae30\", \"\\ub3c5\\uc11c\"]}\n"
     ]
    }
   ],
   "source": [
    "print(json_data)"
   ]
  },
  {
   "cell_type": "code",
   "execution_count": 5,
   "id": "a9bbe7c1",
   "metadata": {},
   "outputs": [
    {
     "name": "stdout",
     "output_type": "stream",
     "text": [
      "{\n",
      "   \"거주지\": \"서울\",\n",
      "   \"나이\": 25,\n",
      "   \"신체정보\": {\n",
      "      \"몸무게\": 71.2,\n",
      "      \"키\": 175.4\n",
      "   },\n",
      "   \"이름\": \"홍길동\",\n",
      "   \"취미\": [\n",
      "      \"등산\",\n",
      "      \"자전거 타기\",\n",
      "      \"독서\"\n",
      "   ]\n",
      "}\n"
     ]
    }
   ],
   "source": [
    "json_data=json.dumps(python_dict, indent=3, sort_keys=True, ensure_ascii=False)\n",
    "print(json_data)"
   ]
  },
  {
   "cell_type": "code",
   "execution_count": 6,
   "id": "a67d936e",
   "metadata": {},
   "outputs": [
    {
     "data": {
      "text/plain": [
       "dict"
      ]
     },
     "execution_count": 6,
     "metadata": {},
     "output_type": "execute_result"
    }
   ],
   "source": [
    "dict_data=json.loads(json_data) # JSON 데이터를 파이썬의 딕셔너리 타입으로 변환\n",
    "type(dict_data)"
   ]
  },
  {
   "cell_type": "code",
   "execution_count": 7,
   "id": "5d6fb5b0",
   "metadata": {},
   "outputs": [
    {
     "data": {
      "text/plain": [
       "71.2"
      ]
     },
     "execution_count": 7,
     "metadata": {},
     "output_type": "execute_result"
    }
   ],
   "source": [
    "dict_data['신체정보']['몸무게']"
   ]
  },
  {
   "cell_type": "code",
   "execution_count": 8,
   "id": "182896bb",
   "metadata": {},
   "outputs": [
    {
     "data": {
      "text/plain": [
       "['등산', '자전거 타기', '독서']"
      ]
     },
     "execution_count": 8,
     "metadata": {},
     "output_type": "execute_result"
    }
   ],
   "source": [
    "dict_data['취미']"
   ]
  },
  {
   "cell_type": "code",
   "execution_count": 9,
   "id": "471f049b",
   "metadata": {},
   "outputs": [
    {
     "data": {
      "text/plain": [
       "'등산'"
      ]
     },
     "execution_count": 9,
     "metadata": {},
     "output_type": "execute_result"
    }
   ],
   "source": [
    "dict_data['취미'][0]"
   ]
  }
 ],
 "metadata": {
  "kernelspec": {
   "display_name": "Python 3",
   "language": "python",
   "name": "python3"
  },
  "language_info": {
   "codemirror_mode": {
    "name": "ipython",
    "version": 3
   },
   "file_extension": ".py",
   "mimetype": "text/x-python",
   "name": "python",
   "nbconvert_exporter": "python",
   "pygments_lexer": "ipython3",
   "version": "3.10.6"
  }
 },
 "nbformat": 4,
 "nbformat_minor": 5
}
